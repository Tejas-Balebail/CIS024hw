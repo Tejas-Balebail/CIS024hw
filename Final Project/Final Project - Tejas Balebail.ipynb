{
 "cells": [
  {
   "cell_type": "markdown",
   "metadata": {},
   "source": [
    "                                                Tejas Balebail\n",
    "                                         PYTHON PROJECT: SPELL CORRECT"
   ]
  },
  {
   "cell_type": "code",
   "execution_count": 76,
   "metadata": {},
   "outputs": [],
   "source": [
    "#SPELL CHECKER PART (BELOW FOR USAGE AND EDITING)\n",
    "import re\n",
    "from collections import Counter\n",
    "\n",
    "def words(text): return re.findall(r'\\w+', text.lower())\n",
    "\n",
    "WORDS = Counter(words(open('dictionary.txt').read())) #dictionary.txt is my dictionary that I referred to.\n",
    "\n",
    "def P(word, N=sum(WORDS.values())): \n",
    "#    \"Probability of `word`.\"\n",
    "    return WORDS[word] / N\n",
    "\n",
    "def correction(word): \n",
    "#    \"Most probable spelling correction for word.\"\n",
    "    return max(candidates(word), key=P)\n",
    "\n",
    "def candidates(word): \n",
    "#    \"Generate possible spelling corrections for word.\"\n",
    "    return (known([word]) or known(edits1(word)) or known(edits2(word)) or [word])\n",
    "\n",
    "def known(words): \n",
    "#    \"The subset of `words` that appear in the dictionary of WORDS.\"\n",
    "    return set(w for w in words if w in WORDS)\n",
    "\n",
    "def edits1(word):\n",
    "#    \"All edits that are one edit away from `word`.\"\n",
    "    letters    = 'abcdefghijklmnopqrstuvwxyz'\n",
    "    splits     = [(word[:i], word[i:])    for i in range(len(word) + 1)]\n",
    "    deletes    = [L + R[1:]               for L, R in splits if R]\n",
    "    transposes = [L + R[1] + R[0] + R[2:] for L, R in splits if len(R)>1]\n",
    "    replaces   = [L + c + R[1:]           for L, R in splits if R for c in letters]\n",
    "    inserts    = [L + c + R               for L, R in splits for c in letters]\n",
    "    return set(deletes + transposes + replaces + inserts)\n",
    "\n",
    "def edits2(word): \n",
    "#    \"All edits that are two edits away from `word`.\"\n",
    "    return (e2 for e1 in edits1(word) for e2 in edits1(e1))"
   ]
  },
  {
   "cell_type": "code",
   "execution_count": 86,
   "metadata": {},
   "outputs": [
    {
     "name": "stdout",
     "output_type": "stream",
     "text": [
      "Please enter the phrase you would like spell-checked: who is a cool, wellthy persun?\n",
      "who is a cool, wealthy person? \n"
     ]
    }
   ],
   "source": [
    "my_file = open(\"dictionary.txt\", \"r\")\n",
    "#I imported a dictionary to compare a word to to determine if it needed spell corrcetions or not.\n",
    "\n",
    "dict_words = my_file.read()\n",
    "my_file.close() #Remember to close your files!\n",
    "word_list = dict_words.split()\n",
    "#Word_List is the list containing all the dictionary words.\n",
    "\n",
    "response = str(raw_input('Please enter the phrase you would like spell-checked: ')) \n",
    "#Response is the variable is used to capture the user input.\n",
    "\n",
    "import string #I needed string to use str.isalpha()\n",
    "import re #I used \"re\" in order to prefectly capture all the punctuations. It's very easy to get all the punctuation\n",
    "#into the split list \"re_list\"\n",
    "re_list = re.findall(r\"[\\w']+|[.,!?;]\",response)\n",
    "\n",
    "new_list = [] #The list that will contain the new/edited text.\n",
    "\n",
    "for re_word in re_list:\n",
    "    if re_word.isalpha() == True: \n",
    "        #The string.isalpha() function shecks if a string is solely comprised of letters. This is my punctuation check.\n",
    "        for word in word_list:\n",
    "            if str(word) == str(re_word):\n",
    "                new_list.append(str(re_word))\n",
    "            else:\n",
    "                re_word = re_word.lower()\n",
    "                corrected = correction(re_word)\n",
    "                new_list.append(corrected)\n",
    "                break\n",
    "    else:\n",
    "        #If it is punctuation (found using string.isalpha()), then it is appended to corrected list automatically.\n",
    "        new_list.append(re_word)\n",
    "        \n",
    "removals = []\n",
    "#Removals is the list that tells me the number of the things I must remove.\n",
    "for i in range(0,len(new_list)):\n",
    "    if new_list[i].isalpha() == True and new_list[i+1].isalpha() == False: #If a word is all letters, and the next is not...\n",
    "        new_list[i] = (new_list[i]) + (new_list[i+1]) \n",
    "        #join the word and the next word (join word & punctuation because no spaces between a word and punctuation)\n",
    "        new_list[i+1] = '' #make the next element which was the punctuation nothing\n",
    "        removals.append(i+1) #Record in removals which of the doubles left over to delete\n",
    "        \n",
    "cycle = 0\n",
    "#The deleting/editing section:\n",
    "\n",
    "for x in range(0,len(removals)-1): #Length of how many times it has to repeat\n",
    "    p = removals[x] #the number of dew_list that will be deleted\n",
    "    del new_list[int(p-cycle)] #deleting section and p-cycle because every time we delete there is one less element\n",
    "    # and we have to account for that\n",
    "    cycle += 1 #so I have a cycle variable that increases once per cycle and fixes the element deletion\n",
    "\n",
    "print(' '.join(new_list)) #Displays final product by joining new_list into a string and printing it out with a gap of one\n",
    "# space (' ') in between\n",
    "\n",
    "#--------------------------------------------------------------------------------------------------------------------------#\n",
    "#use this one for presentation so i dont have to type a random one up there: who is a cool, wellthy persun?\n",
    "#explain doubling output error if time?"
   ]
  },
  {
   "cell_type": "code",
   "execution_count": 87,
   "metadata": {},
   "outputs": [
    {
     "name": "stdout",
     "output_type": "stream",
     "text": [
      "What would you like the candidates of corrections for?who is cool and wellthy?\n",
      "{'and': set(['and']), 'is': set(['is']), 'who': set(['who']), 'wellthy': set(['wealthy']), 'cool': set(['cool'])}\n"
     ]
    }
   ],
   "source": [
    "# who is cool and wellthy?\n",
    "#--------------------------------------------------------------------------------------------------------------------------#\n",
    "# CANDIDATE LIST extra code that i worked on in class (W.I.P.)\n",
    "\n",
    "reply = str(raw_input('What would you like the candidates of corrections for?'))\n",
    "word_list = re.findall(r\"[\\w']+|[.,!?;]\",reply)\n",
    "changes = {}\n",
    "\n",
    "for i in range(0,len(word_list)-1):\n",
    "    if word_list[i].isalpha() == True:\n",
    "        x = word_list[i]\n",
    "        changes[x] = candidates(x)\n",
    "    else:\n",
    "        changes[x] = x\n",
    "    \n",
    "print changes"
   ]
  },
  {
   "cell_type": "code",
   "execution_count": null,
   "metadata": {},
   "outputs": [],
   "source": []
  }
 ],
 "metadata": {
  "kernelspec": {
   "display_name": "Python 2",
   "language": "python",
   "name": "python2"
  },
  "language_info": {
   "codemirror_mode": {
    "name": "ipython",
    "version": 2
   },
   "file_extension": ".py",
   "mimetype": "text/x-python",
   "name": "python",
   "nbconvert_exporter": "python",
   "pygments_lexer": "ipython2",
   "version": "2.7.14"
  }
 },
 "nbformat": 4,
 "nbformat_minor": 2
}
